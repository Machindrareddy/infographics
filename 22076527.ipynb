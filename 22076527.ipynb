{
 "cells": [
  {
   "cell_type": "code",
   "execution_count": 1,
   "id": "82f40f96",
   "metadata": {},
   "outputs": [],
   "source": [
    "#import necessary libraries\n",
    "import pandas as pd\n",
    "import numpy as np\n",
    "import matplotlib.pyplot as plt\n",
    "import seaborn as sns\n"
   ]
  },
  {
   "cell_type": "code",
   "execution_count": 15,
   "id": "5b6f2805",
   "metadata": {},
   "outputs": [],
   "source": [
    "# Import and Read the Dataset\n",
    "df = pd.read_csv(\"air passenger data1.csv\")"
   ]
  },
  {
   "cell_type": "code",
   "execution_count": null,
   "id": "66471092",
   "metadata": {},
   "outputs": [],
   "source": [
    "# Check for Null Values\n",
    "null_values = df.isnull().sum()\n",
    "\n",
    "df_cleaned = df.dropna()\n",
    "df['Code'].fillna('UNKNOWN', inplace=True)"
   ]
  },
  {
   "cell_type": "code",
   "execution_count": null,
   "id": "83962472",
   "metadata": {},
   "outputs": [],
   "source": [
    "# Check Data Types\n",
    "data_types = df.dtypes"
   ]
  },
  {
   "cell_type": "code",
   "execution_count": 16,
   "id": "7426c83b",
   "metadata": {},
   "outputs": [],
   "source": [
    "# Summary Statistics\n",
    "summary_statistics = df.describe()"
   ]
  },
  {
   "cell_type": "code",
   "execution_count": 4,
   "id": "849c46ea",
   "metadata": {},
   "outputs": [],
   "source": [
    "# Define a function to plot line charts for top countries\n",
    "def plot_line_charts_top_countries(df, ax, top_countries, title, x_label, y_label):\n",
    "    for country in top_countries:\n",
    "        sns.lineplot(x='Year', y='Air transport, passengers carried', data=df[df['Entity'] == country], label=country, ax=ax)\n",
    "    ax.set_title(title)\n",
    "    ax.set_xlabel(x_label)\n",
    "    ax.set_ylabel(y_label)\n",
    "    ax.legend(title='Country', bbox_to_anchor=(1.05, 1), loc='upper left')"
   ]
  },
  {
   "cell_type": "code",
   "execution_count": 5,
   "id": "c2ce8085",
   "metadata": {},
   "outputs": [
    {
     "data": {
      "image/png": "[encoded data removed]",
      "text/plain": [
       "<Figure size 1500x1200 with 4 Axes>"
      ]
     },
     "metadata": {},
     "output_type": "display_data"
    }
   ],
   "source": [
    "# Create subplots\n",
    "fig, ((ax1, ax2), (ax3, ax4)) = plt.subplots(2, 2, figsize=(15, 12))\n"
   ]
  },
  {
   "cell_type": "code",
   "execution_count": 17,
   "id": "19fb3a3e",
   "metadata": {},
   "outputs": [],
   "source": [
    "# Sort the data and select top 15\n",
    "df_sorted = df.sort_values(by='Air transport, passengers carried', ascending=False)\n",
    "df_top25 = df_sorted.head(25)\n"
   ]
  },
  {
   "cell_type": "code",
   "execution_count": 18,
   "id": "0f032c23",
   "metadata": {},
   "outputs": [
    {
     "name": "stderr",
     "output_type": "stream",
     "text": [
      "C:\\Users\\hp\\AppData\\Local\\Temp\\ipykernel_6404\\3663392454.py:2: FutureWarning: \n",
      "\n",
      "The `ci` parameter is deprecated. Use `errorbar=None` for the same effect.\n",
      "\n",
      "  sns.barplot(x='Year', y='Air transport, passengers carried', data=df_top25, ci=None, ax=ax1)\n"
     ]
    }
   ],
   "source": [
    "# Plot\n",
    "sns.barplot(x='Year', y='Air transport, passengers carried', data=df_top25, ci=None, ax=ax1)\n",
    "ax1.set_title('Distribution of Air Passengers by Year (Top 25)')\n",
    "ax1.set_xlabel('Year')\n",
    "ax1.set_ylabel('Total Passengers Carried')\n",
    "ax1.tick_params(axis='x', rotation=45)\n",
    "\n"
   ]
  },
  {
   "cell_type": "code",
   "execution_count": 19,
   "id": "1fd95b2f",
   "metadata": {},
   "outputs": [
    {
     "data": {
      "text/plain": [
       "Text(0.5, 1.0, 'Proportion of Air Passengers by Top 5 Countries')"
      ]
     },
     "execution_count": 19,
     "metadata": {},
     "output_type": "execute_result"
    }
   ],
   "source": [
    "# Plot 2: Pie chart\n",
    "entity_counts = df['Entity'].value_counts().head(5)\n",
    "explode = (0.1, 0.1, 0.1, 0.1, 0.1)\n",
    "ax2.pie(entity_counts, labels=entity_counts.index, explode=explode, autopct='%1.1f%%', startangle=140)\n",
    "ax2.set_title('Proportion of Air Passengers by Top 5 Countries')\n"
   ]
  },
  {
   "cell_type": "code",
   "execution_count": 20,
   "id": "6c2e264b",
   "metadata": {},
   "outputs": [],
   "source": [
    "# Plot 3: Line charts for top 10 countries\n",
    "top_countries_line = df.groupby('Entity')['Air transport, passengers carried'].sum().nlargest(3).index\n",
    "plot_line_charts_top_countries(df, ax3, top_countries_line, 'Air Passengers Over Time - Top 10 Countries', 'Year', 'Passengers Carried')\n"
   ]
  },
  {
   "cell_type": "code",
   "execution_count": 21,
   "id": "e03e4c33",
   "metadata": {},
   "outputs": [
    {
     "data": {
      "text/plain": [
       "<Figure size 640x480 with 0 Axes>"
      ]
     },
     "metadata": {},
     "output_type": "display_data"
    }
   ],
   "source": [
    "# Plot 4: Violin plot\n",
    "top_entities_violin = df.groupby('Entity')['Air transport, passengers carried'].sum().nlargest(10).index\n",
    "sns.violinplot(x='Entity', y='Air transport, passengers carried', data=df[df['Entity'].isin(top_entities_violin)], palette='Set2', ax=ax4)\n",
    "ax4.set_title('Distribution of Air Passengers by Top 10 Entities')\n",
    "ax4.set_xlabel('Entity (Country)')\n",
    "ax4.set_ylabel('Passengers Carried')\n",
    "ax4.tick_params(axis='x', rotation=45)\n",
    "plt.tight_layout()"
   ]
  },
  {
   "cell_type": "code",
   "execution_count": 22,
   "id": "4b965921",
   "metadata": {},
   "outputs": [],
   "source": [
    "# Add analysis text\n",
    "analysis_text = (\n",
    "    \"Analysis:\\n\\n\"\n",
    "    \"1. Shows varieties that can be connected with significant events or changes in the Climate in Specific Years.\\n\\n\"\n",
    "    \"2. European Unions are the top 5 countries with 20% of air passengers.\\n\\n\"\n",
    "    \"3. The trend of air passengers over time for the top 3 countries.\\n Brazil is the biggest contributor, with a consistent increase in the \\ntotal no.of Travellers conveyed during 1970 - 2020 \\n\\n\"\n",
    "    \"4. Distribution strategy of air travellers amooung strong countries as it develops.\\n\\n\"\n",
    "    \"Overall it is identified Trends and Changes in the quantity of Travellers who fly among nations and over time.\")"
   ]
  },
  {
   "cell_type": "code",
   "execution_count": 12,
   "id": "2d59bbe2",
   "metadata": {},
   "outputs": [
    {
     "data": {
      "text/plain": [
       "Text(0.5, -0.05, 'Analysis:\\n\\n1. Shows varieties that can be connected with significant events or changes in the Climate in Specific Years.\\n\\n2. European Unions are the top 5 countries with 20% of air passengers.\\n\\n3. The trend of air passengers over time for the top 3 countries.\\n Brazil is the biggest contributor, with a consistent increase in the \\ntotal no.of Travellers conveyed during 1970 - 2020 \\n\\n4. Distribution strategy of air travellers amooung strong countries as it develops.\\n\\nOverall it is identified Trends and Changes in the quantity of Travellers who fly among nations and over time.')"
      ]
     },
     "execution_count": 12,
     "metadata": {},
     "output_type": "execute_result"
    }
   ],
   "source": [
    "fig.text(0.5, 1.02, 'GLOBAL TOURISM', ha='center', va='center', fontsize=44)  # Add dashboard title\n",
    "\n",
    "fig.text(0.5, -0.05, analysis_text, ha='center', va='center', fontsize=10, bbox=dict(boxstyle='round', facecolor='white', alpha=0.5))\n"
   ]
  },
  {
   "cell_type": "code",
   "execution_count": 13,
   "id": "b2b02768",
   "metadata": {},
   "outputs": [],
   "source": [
    "# Add name and student ID\n",
    "name_id_text = r'$\\bf{Name: Machindra Tati}$'+'\\n'+ r'$\\bf{ID: 22076527}$'"
   ]
  },
  {
   "cell_type": "code",
   "execution_count": 14,
   "id": "d7826a22",
   "metadata": {},
   "outputs": [
    {
     "data": {
      "text/plain": [
       "<Figure size 640x480 with 0 Axes>"
      ]
     },
     "metadata": {},
     "output_type": "display_data"
    }
   ],
   "source": [
    "#name_id_text = \"Machindra Tati\\nYour Student ID\"\n",
    "fig.text(0.97, -0.12, name_id_text, ha='right', va='bottom', fontsize=10)\n",
    "\n",
    "plt.tight_layout()\n",
    "\n",
    "\n",
    "plt.savefig('22076527.png', bbox_inches='tight',dpi=300)\n",
    "\n"
   ]
  },
  {
   "cell_type": "code",
   "execution_count": null,
   "id": "44d71077",
   "metadata": {},
   "outputs": [],
   "source": []
  }
 ],
 "metadata": {
  "kernelspec": {
   "display_name": "Python 3 (ipykernel)",
   "language": "python",
   "name": "python3"
  },
  "language_info": {
   "codemirror_mode": {
    "name": "ipython",
    "version": 3
   },
   "file_extension": ".py",
   "mimetype": "text/x-python",
   "name": "python",
   "nbconvert_exporter": "python",
   "pygments_lexer": "ipython3",
   "version": "3.11.5"
  }
 },
 "nbformat": 4,
 "nbformat_minor": 5
}
